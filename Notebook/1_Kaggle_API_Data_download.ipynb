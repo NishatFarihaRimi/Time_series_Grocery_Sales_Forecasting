{
  "cells": [
    {
      "cell_type": "code",
      "execution_count": 1,
      "metadata": {
        "colab": {
          "base_uri": "https://localhost:8080/",
          "height": 56
        },
        "id": "lyjTv2Hd_3U5",
        "outputId": "4e17d0fc-962f-4c42-de13-f0c7eb3fb90c"
      },
      "outputs": [
        {
          "ename": "ModuleNotFoundError",
          "evalue": "No module named 'google'",
          "output_type": "error",
          "traceback": [
            "\u001b[31m---------------------------------------------------------------------------\u001b[39m",
            "\u001b[31mModuleNotFoundError\u001b[39m                       Traceback (most recent call last)",
            "\u001b[36mCell\u001b[39m\u001b[36m \u001b[39m\u001b[32mIn[1]\u001b[39m\u001b[32m, line 2\u001b[39m\n\u001b[32m      1\u001b[39m \u001b[38;5;66;03m#Imports the files module from google.colab, which provides functions for interacting with the Colab environment's file system.\u001b[39;00m\n\u001b[32m----> \u001b[39m\u001b[32m2\u001b[39m \u001b[38;5;28;01mfrom\u001b[39;00m\u001b[38;5;250m \u001b[39m\u001b[34;01mgoogle\u001b[39;00m\u001b[34;01m.\u001b[39;00m\u001b[34;01mcolab\u001b[39;00m\u001b[38;5;250m \u001b[39m\u001b[38;5;28;01mimport\u001b[39;00m files\n\u001b[32m      4\u001b[39m \u001b[38;5;66;03m# This will prompt you to upload the kaggle.json file\u001b[39;00m\n\u001b[32m      5\u001b[39m files.upload()\n",
            "\u001b[31mModuleNotFoundError\u001b[39m: No module named 'google'"
          ]
        }
      ],
      "source": [
        "#Imports the files module from google.colab, which provides functions for interacting with the Colab environment's file system.\n",
        "from google.colab import files\n",
        "\n",
        "# This will prompt you to upload the kaggle.json file\n",
        "files.upload()"
      ]
    },
    {
      "cell_type": "code",
      "execution_count": null,
      "metadata": {
        "id": "o0YEhoay4pgo"
      },
      "outputs": [],
      "source": [
        "#Executes a shell command to print the current working directory.\n",
        "!pwd"
      ]
    },
    {
      "cell_type": "code",
      "execution_count": null,
      "metadata": {
        "colab": {
          "background_save": true
        },
        "id": "J7ksfkcZCLRp"
      },
      "outputs": [],
      "source": [
        "#Executes a shell command to create a directory named .kaggle in the current user's home directory if it doesn't already exist.\n",
        "# Create the kaggle directory and move kaggle.json there\n",
        "!mkdir -p ~/.kaggle"
      ]
    },
    {
      "cell_type": "code",
      "execution_count": null,
      "metadata": {
        "id": "V6mR9D5Z497f"
      },
      "outputs": [],
      "source": [
        "#Executes a shell command to list the contents of the current directory.\n",
        "!ls"
      ]
    },
    {
      "cell_type": "code",
      "execution_count": null,
      "metadata": {
        "id": "HI2Px3si5JWE"
      },
      "outputs": [],
      "source": [
        "#Executes a shell command to move the file named kaggle.json to the ~/.kaggle directory.\n",
        "!mv kaggle.json ~/.kaggle/\n",
        "\n",
        "#terminal code # 600 read and write, copy paste directora and file name\n",
        "!chmod 600 ~/.kaggle/kaggle.json"
      ]
    },
    {
      "cell_type": "code",
      "execution_count": null,
      "metadata": {
        "colab": {
          "background_save": true
        },
        "id": "bG8MYwJDES4n"
      },
      "outputs": [],
      "source": [
        "# To see the files in the kaggle directory \"favorita-grocery-sales-forecasting\"\n",
        "!kaggle competitions files -c favorita-grocery-sales-forecasting"
      ]
    },
    {
      "cell_type": "code",
      "execution_count": null,
      "metadata": {
        "colab": {
          "background_save": true
        },
        "id": "TelxSCYREC2a"
      },
      "outputs": [],
      "source": [
        "# To download the files in the kaggle directory \"favorita-grocery-sales-forecasting\"\n",
        "!kaggle competitions download -c favorita-grocery-sales-forecasting"
      ]
    },
    {
      "cell_type": "code",
      "execution_count": null,
      "metadata": {
        "colab": {
          "background_save": true
        },
        "id": "GanKt0sjFHpu"
      },
      "outputs": [],
      "source": [
        "from google.colab import drive\n",
        "drive.mount('/content/drive')"
      ]
    },
    {
      "cell_type": "code",
      "execution_count": null,
      "metadata": {
        "colab": {
          "background_save": true
        },
        "id": "xC7__OwSGZcO"
      },
      "outputs": [],
      "source": [
        "!mkdir -p /content/drive/MyDrive/retail_kaggle_data_new\n",
        "!cp favorita-grocery-sales-forecasting.zip /content/drive/MyDrive/retail_kaggle_data_new/."
      ]
    },
    {
      "cell_type": "code",
      "execution_count": null,
      "metadata": {
        "colab": {
          "background_save": true
        },
        "id": "I68f_z3bLB3c"
      },
      "outputs": [],
      "source": [
        "# Unzip the downloaded dataset\n",
        "!unzip /content/drive/MyDrive/retail_kaggle_data_new/favorita-grocery-sales-forecasting.zip"
      ]
    },
    {
      "cell_type": "code",
      "execution_count": null,
      "metadata": {
        "id": "ac4JRFNILUmX"
      },
      "outputs": [],
      "source": [
        "#unzip files\n",
        "!apt-get install -y p7zip-full\n",
        "!7z e train.csv.7z\n",
        "!7z e stores.csv.7z\n",
        "!7z e items.csv.7z\n",
        "!7z e holidays_events.csv.7z\n",
        "!7z e oil.csv.7z\n",
        "!7z e transactions.csv.7z"
      ]
    },
    {
      "cell_type": "markdown",
      "metadata": {
        "id": "3TuRnzk-GdvC"
      },
      "source": []
    }
  ],
  "metadata": {
    "colab": {
      "provenance": []
    },
    "kernelspec": {
      "display_name": "timeseries_v3.11",
      "language": "python",
      "name": "python3"
    },
    "language_info": {
      "codemirror_mode": {
        "name": "ipython",
        "version": 3
      },
      "file_extension": ".py",
      "mimetype": "text/x-python",
      "name": "python",
      "nbconvert_exporter": "python",
      "pygments_lexer": "ipython3",
      "version": "3.11.13"
    }
  },
  "nbformat": 4,
  "nbformat_minor": 0
}
